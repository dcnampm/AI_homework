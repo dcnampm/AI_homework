{
  "nbformat": 4,
  "nbformat_minor": 0,
  "metadata": {
    "colab": {
      "provenance": [],
      "include_colab_link": true
    },
    "kernelspec": {
      "name": "python3",
      "display_name": "Python 3"
    },
    "language_info": {
      "name": "python"
    }
  },
  "cells": [
    {
      "cell_type": "markdown",
      "metadata": {
        "id": "view-in-github",
        "colab_type": "text"
      },
      "source": [
        "<a href=\"https://colab.research.google.com/github/dcnampm/AI_homework/blob/main/HW2.ipynb\" target=\"_parent\"><img src=\"https://colab.research.google.com/assets/colab-badge.svg\" alt=\"Open In Colab\"/></a>"
      ]
    },
    {
      "cell_type": "code",
      "execution_count": null,
      "metadata": {
        "colab": {
          "base_uri": "https://localhost:8080/"
        },
        "id": "Hp7QRJvm_EAg",
        "outputId": "ac002660-cb7c-4ac3-8679-a82f8fe46df4"
      },
      "outputs": [
        {
          "output_type": "stream",
          "name": "stdout",
          "text": [
            "Cloning into 'CIS419'...\n",
            "remote: Enumerating objects: 113, done.\u001b[K\n",
            "remote: Total 113 (delta 0), reused 0 (delta 0), pack-reused 113\u001b[K\n",
            "Receiving objects: 100% (113/113), 6.49 MiB | 3.36 MiB/s, done.\n",
            "Resolving deltas: 100% (27/27), done.\n"
          ]
        }
      ],
      "source": [
        "!git clone https://github.com/adziorny/CIS419.git"
      ]
    },
    {
      "cell_type": "code",
      "source": [
        "from google.colab import drive\n",
        "drive.mount('/content/drive')"
      ],
      "metadata": {
        "colab": {
          "base_uri": "https://localhost:8080/"
        },
        "id": "wvN3viow9GHP",
        "outputId": "62b7ba00-f38c-4d01-c56b-073c5a4d7864"
      },
      "execution_count": 1,
      "outputs": [
        {
          "output_type": "stream",
          "name": "stdout",
          "text": [
            "Drive already mounted at /content/drive; to attempt to forcibly remount, call drive.mount(\"/content/drive\", force_remount=True).\n"
          ]
        }
      ]
    },
    {
      "cell_type": "code",
      "source": [
        "cd /content/drive/MyDrive/Colab Notebooks/CIS419/Assignment2/hw2_skeleton"
      ],
      "metadata": {
        "id": "w78sVgvw_RE9",
        "colab": {
          "base_uri": "https://localhost:8080/"
        },
        "outputId": "e8510b60-6919-4bc0-c76a-c54926698487"
      },
      "execution_count": 2,
      "outputs": [
        {
          "output_type": "stream",
          "name": "stdout",
          "text": [
            "/content/drive/MyDrive/Colab Notebooks/CIS419/Assignment2/hw2_skeleton\n"
          ]
        }
      ]
    },
    {
      "cell_type": "markdown",
      "source": [
        "# 1 Polynomial Regression"
      ],
      "metadata": {
        "id": "MAqkTyLUUAAp"
      }
    },
    {
      "cell_type": "markdown",
      "source": [
        "## 1.1 Implementing Polynomial Regression"
      ],
      "metadata": {
        "id": "l7MJihCeUDvt"
      }
    },
    {
      "cell_type": "code",
      "source": [
        "!python polyreg.py\n"
      ],
      "metadata": {
        "id": "UWz9M4aqUDRP"
      },
      "execution_count": null,
      "outputs": []
    },
    {
      "cell_type": "code",
      "source": [
        "!python test_polyreg_univariate.py"
      ],
      "metadata": {
        "id": "-aJoqCoonMn8"
      },
      "execution_count": null,
      "outputs": []
    },
    {
      "cell_type": "code",
      "source": [
        "!python test_polyreg_learningCurve.py"
      ],
      "metadata": {
        "colab": {
          "base_uri": "https://localhost:8080/"
        },
        "id": "iVceeMK06Y3Z",
        "outputId": "f1450d83-110b-466e-8786-9d605168d99d"
      },
      "execution_count": null,
      "outputs": [
        {
          "output_type": "stream",
          "name": "stdout",
          "text": [
            "/content/drive/MyDrive/Colab Notebooks/CIS419/Assignment2/hw2_skeleton/test_polyreg_learningCurve.py:45: UserWarning: Attempt to set non-positive ylim on a log-scaled axis will be ignored.\n",
            "  plt.ylim((0,maxY))\n"
          ]
        }
      ]
    },
    {
      "cell_type": "code",
      "source": [
        "!python mapFeature.py"
      ],
      "metadata": {
        "id": "bD49SW7d-Fxz"
      },
      "execution_count": null,
      "outputs": []
    },
    {
      "cell_type": "code",
      "source": [
        "!python test_logreg1.py"
      ],
      "metadata": {
        "id": "0ZcpLxI58MQI"
      },
      "execution_count": null,
      "outputs": []
    },
    {
      "cell_type": "markdown",
      "source": [
        "# 3 Support Vector Machines"
      ],
      "metadata": {
        "id": "HVXCYEkTLnx6"
      }
    },
    {
      "cell_type": "markdown",
      "source": [
        "## 3.1 Getting Started"
      ],
      "metadata": {
        "id": "uu64sMcuMX9_"
      }
    },
    {
      "cell_type": "code",
      "source": [
        "!python example_svm.py"
      ],
      "metadata": {
        "colab": {
          "base_uri": "https://localhost:8080/"
        },
        "id": "SgyZ_WEtLrfK",
        "outputId": "bd370f27-aab4-47e8-c4b7-8f36462389ed"
      },
      "execution_count": 8,
      "outputs": [
        {
          "output_type": "stream",
          "name": "stdout",
          "text": [
            "\n",
            "======================\n",
            "Script to Explore SVMs\n",
            "======================\n",
            "\n",
            "Simple script to explore SVM training with varying C\n",
            "\n",
            "Example adapted from scikit_learn documentation by Eric Eaton, 2014\n",
            "\n",
            "\n",
            "Training the SVM\n",
            "\n",
            "Testing the SVM\n"
          ]
        }
      ]
    },
    {
      "cell_type": "markdown",
      "source": [
        "## 3.2 Implementing Custom Kernels"
      ],
      "metadata": {
        "id": "w7wZewNfO2V8"
      }
    },
    {
      "cell_type": "code",
      "source": [
        "!python example_svmCustomKernel.py"
      ],
      "metadata": {
        "colab": {
          "base_uri": "https://localhost:8080/"
        },
        "id": "K7aUFDKfO19y",
        "outputId": "82012469-eeb9-4298-b91a-194b456ea918"
      },
      "execution_count": 13,
      "outputs": [
        {
          "output_type": "stream",
          "name": "stdout",
          "text": [
            "\n",
            "======================\n",
            "SVM with custom kernel\n",
            "======================\n",
            "\n",
            "Simple usage of Support Vector Machines to classify a sample. It will\n",
            "plot the decision surface and the support vectors.\n",
            "\n",
            "Example adapted from scikit_learn documentation.\n",
            "\n",
            "\n",
            "Training the SVM\n",
            "Size X1 =  (150, 2)\n",
            "Size X2 =  (150, 2)\n",
            "\n",
            "Testing the SVM\n",
            "Size X1 =  (61600, 2)\n",
            "Size X2 =  (150, 2)\n"
          ]
        }
      ]
    },
    {
      "cell_type": "markdown",
      "source": [
        "## 3.3 Implementing the Polynomial Kernel"
      ],
      "metadata": {
        "id": "Vgvyx8rXQ--F"
      }
    },
    {
      "cell_type": "code",
      "source": [
        "!python test_svmPolyKernel.py"
      ],
      "metadata": {
        "colab": {
          "base_uri": "https://localhost:8080/"
        },
        "id": "PaT_7Q5SRAMY",
        "outputId": "efc0085d-7a2a-4eae-825a-e87e070b9702"
      },
      "execution_count": 19,
      "outputs": [
        {
          "output_type": "stream",
          "name": "stdout",
          "text": [
            "\n",
            "=======================================\n",
            "Test SVM with custom polynomial kernels\n",
            "=======================================\n",
            "\n",
            "Author: Eric Eaton, 2014\n",
            "\n",
            "Adapted from scikit_learn documentation.\n",
            "\n",
            "\n",
            "Training the SVMs...\n",
            "\n",
            "Testing the SVMs...\n"
          ]
        }
      ]
    },
    {
      "cell_type": "markdown",
      "source": [
        "## 3.4 Implementing the Gaussian Radial Basis Function Kernel"
      ],
      "metadata": {
        "id": "zs2MqCkLT5Bb"
      }
    },
    {
      "cell_type": "code",
      "source": [
        "!python test_svmGaussianKernel.py"
      ],
      "metadata": {
        "colab": {
          "base_uri": "https://localhost:8080/"
        },
        "id": "GjxVnQGjT7I1",
        "outputId": "e860c286-a9f8-455a-a8e8-ca8b49377c32"
      },
      "execution_count": 3,
      "outputs": [
        {
          "output_type": "stream",
          "name": "stdout",
          "text": [
            "\n",
            "=====================================\n",
            "Test SVM with custom Gaussian kernels\n",
            "=====================================\n",
            "\n",
            "Author: Eric Eaton, 2014\n",
            "\n",
            "Adapted from scikit_learn documentation.\n",
            "\n",
            "\n",
            "Training the SVMs...\n",
            "\n",
            "Testing the SVMs...\n"
          ]
        }
      ]
    }
  ]
}