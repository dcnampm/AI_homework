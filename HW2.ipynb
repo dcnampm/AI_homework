{
  "nbformat": 4,
  "nbformat_minor": 0,
  "metadata": {
    "colab": {
      "provenance": [],
      "include_colab_link": true
    },
    "kernelspec": {
      "name": "python3",
      "display_name": "Python 3"
    },
    "language_info": {
      "name": "python"
    }
  },
  "cells": [
    {
      "cell_type": "markdown",
      "metadata": {
        "id": "view-in-github",
        "colab_type": "text"
      },
      "source": [
        "<a href=\"https://colab.research.google.com/github/dcnampm/AI_homework/blob/main/HW2.ipynb\" target=\"_parent\"><img src=\"https://colab.research.google.com/assets/colab-badge.svg\" alt=\"Open In Colab\"/></a>"
      ]
    },
    {
      "cell_type": "code",
      "execution_count": null,
      "metadata": {
        "colab": {
          "base_uri": "https://localhost:8080/"
        },
        "id": "Hp7QRJvm_EAg",
        "outputId": "ac002660-cb7c-4ac3-8679-a82f8fe46df4"
      },
      "outputs": [
        {
          "output_type": "stream",
          "name": "stdout",
          "text": [
            "Cloning into 'CIS419'...\n",
            "remote: Enumerating objects: 113, done.\u001b[K\n",
            "remote: Total 113 (delta 0), reused 0 (delta 0), pack-reused 113\u001b[K\n",
            "Receiving objects: 100% (113/113), 6.49 MiB | 3.36 MiB/s, done.\n",
            "Resolving deltas: 100% (27/27), done.\n"
          ]
        }
      ],
      "source": [
        "!git clone https://github.com/adziorny/CIS419.git"
      ]
    },
    {
      "cell_type": "code",
      "source": [
        "cd /content/drive/MyDrive/Colab Notebooks/CIS419/Assignment2/hw2_skeleton"
      ],
      "metadata": {
        "id": "w78sVgvw_RE9",
        "colab": {
          "base_uri": "https://localhost:8080/"
        },
        "outputId": "221dddfe-9d8c-42c9-fa05-5b1a6b2f292f"
      },
      "execution_count": 1,
      "outputs": [
        {
          "output_type": "stream",
          "name": "stdout",
          "text": [
            "/content/drive/MyDrive/Colab Notebooks/CIS419/Assignment2/hw2_skeleton\n"
          ]
        }
      ]
    },
    {
      "cell_type": "markdown",
      "source": [
        "# 1 Polynomial Regression"
      ],
      "metadata": {
        "id": "MAqkTyLUUAAp"
      }
    },
    {
      "cell_type": "markdown",
      "source": [
        "## 1.1 Implementing Polynomial Regression"
      ],
      "metadata": {
        "id": "l7MJihCeUDvt"
      }
    },
    {
      "cell_type": "code",
      "source": [
        "!python polyreg.py\n"
      ],
      "metadata": {
        "id": "UWz9M4aqUDRP"
      },
      "execution_count": 5,
      "outputs": []
    },
    {
      "cell_type": "code",
      "source": [
        "!python test_polyreg_univariate.py"
      ],
      "metadata": {
        "id": "-aJoqCoonMn8"
      },
      "execution_count": 4,
      "outputs": []
    },
    {
      "cell_type": "code",
      "source": [
        "!python test_polyreg_learningCurve.py"
      ],
      "metadata": {
        "colab": {
          "base_uri": "https://localhost:8080/"
        },
        "id": "iVceeMK06Y3Z",
        "outputId": "f1450d83-110b-466e-8786-9d605168d99d"
      },
      "execution_count": 14,
      "outputs": [
        {
          "output_type": "stream",
          "name": "stdout",
          "text": [
            "/content/drive/MyDrive/Colab Notebooks/CIS419/Assignment2/hw2_skeleton/test_polyreg_learningCurve.py:45: UserWarning: Attempt to set non-positive ylim on a log-scaled axis will be ignored.\n",
            "  plt.ylim((0,maxY))\n"
          ]
        }
      ]
    },
    {
      "cell_type": "code",
      "source": [
        "!python test_logreg1.py"
      ],
      "metadata": {
        "id": "0ZcpLxI58MQI"
      },
      "execution_count": 13,
      "outputs": []
    }
  ]
}